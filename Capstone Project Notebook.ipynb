{
 "cells": [
  {
   "cell_type": "code",
   "execution_count": 138,
   "metadata": {},
   "outputs": [],
   "source": [
    "import numpy as np\n",
    "import pandas as pd\n",
    "import matplotlib as mpl\n",
    "import matplotlib.pyplot as plt\n",
    "import seaborn as sns\n",
    "mpl.style.use('ggplot')"
   ]
  },
  {
   "cell_type": "code",
   "execution_count": 139,
   "metadata": {},
   "outputs": [
    {
     "name": "stdout",
     "output_type": "stream",
     "text": [
      "Data read into dataframe!\n"
     ]
    }
   ],
   "source": [
    "pd.set_option('display.max_columns', None)\n",
    "df = pd.read_csv('Downloads/Collisions.csv')\n",
    "print(\"Data read into dataframe!\")"
   ]
  },
  {
   "cell_type": "code",
   "execution_count": 140,
   "metadata": {
    "scrolled": true
   },
   "outputs": [
    {
     "data": {
      "text/html": [
       "<div>\n",
       "<style scoped>\n",
       "    .dataframe tbody tr th:only-of-type {\n",
       "        vertical-align: middle;\n",
       "    }\n",
       "\n",
       "    .dataframe tbody tr th {\n",
       "        vertical-align: top;\n",
       "    }\n",
       "\n",
       "    .dataframe thead th {\n",
       "        text-align: right;\n",
       "    }\n",
       "</style>\n",
       "<table border=\"1\" class=\"dataframe\">\n",
       "  <thead>\n",
       "    <tr style=\"text-align: right;\">\n",
       "      <th></th>\n",
       "      <th>X</th>\n",
       "      <th>Y</th>\n",
       "      <th>OBJECTID</th>\n",
       "      <th>INCKEY</th>\n",
       "      <th>COLDETKEY</th>\n",
       "      <th>REPORTNO</th>\n",
       "      <th>STATUS</th>\n",
       "      <th>ADDRTYPE</th>\n",
       "      <th>INTKEY</th>\n",
       "      <th>LOCATION</th>\n",
       "      <th>EXCEPTRSNCODE</th>\n",
       "      <th>EXCEPTRSNDESC</th>\n",
       "      <th>SEVERITYCODE</th>\n",
       "      <th>SEVERITYDESC</th>\n",
       "      <th>COLLISIONTYPE</th>\n",
       "      <th>PERSONCOUNT</th>\n",
       "      <th>PEDCOUNT</th>\n",
       "      <th>PEDCYLCOUNT</th>\n",
       "      <th>VEHCOUNT</th>\n",
       "      <th>INJURIES</th>\n",
       "      <th>SERIOUSINJURIES</th>\n",
       "      <th>FATALITIES</th>\n",
       "      <th>INCDATE</th>\n",
       "      <th>INCDTTM</th>\n",
       "      <th>JUNCTIONTYPE</th>\n",
       "      <th>SDOT_COLCODE</th>\n",
       "      <th>SDOT_COLDESC</th>\n",
       "      <th>INATTENTIONIND</th>\n",
       "      <th>UNDERINFL</th>\n",
       "      <th>WEATHER</th>\n",
       "      <th>ROADCOND</th>\n",
       "      <th>LIGHTCOND</th>\n",
       "      <th>PEDROWNOTGRNT</th>\n",
       "      <th>SDOTCOLNUM</th>\n",
       "      <th>SPEEDING</th>\n",
       "      <th>ST_COLCODE</th>\n",
       "      <th>ST_COLDESC</th>\n",
       "      <th>SEGLANEKEY</th>\n",
       "      <th>CROSSWALKKEY</th>\n",
       "      <th>HITPARKEDCAR</th>\n",
       "    </tr>\n",
       "  </thead>\n",
       "  <tbody>\n",
       "    <tr>\n",
       "      <th>0</th>\n",
       "      <td>-122.320757</td>\n",
       "      <td>47.609408</td>\n",
       "      <td>1</td>\n",
       "      <td>328476</td>\n",
       "      <td>329976</td>\n",
       "      <td>EA08706</td>\n",
       "      <td>Matched</td>\n",
       "      <td>Block</td>\n",
       "      <td>NaN</td>\n",
       "      <td>BROADWAY BETWEEN E COLUMBIA ST AND BOYLSTON AVE</td>\n",
       "      <td></td>\n",
       "      <td>NaN</td>\n",
       "      <td>1</td>\n",
       "      <td>Property Damage Only Collision</td>\n",
       "      <td>Sideswipe</td>\n",
       "      <td>2</td>\n",
       "      <td>0</td>\n",
       "      <td>0</td>\n",
       "      <td>2</td>\n",
       "      <td>0</td>\n",
       "      <td>0</td>\n",
       "      <td>0</td>\n",
       "      <td>2020/01/22 00:00:00+00</td>\n",
       "      <td>1/22/2020 3:21:00 PM</td>\n",
       "      <td>Mid-Block (not related to intersection)</td>\n",
       "      <td>11.0</td>\n",
       "      <td>MOTOR VEHICLE STRUCK MOTOR VEHICLE, FRONT END ...</td>\n",
       "      <td>NaN</td>\n",
       "      <td>N</td>\n",
       "      <td>Raining</td>\n",
       "      <td>Wet</td>\n",
       "      <td>Dark - Street Lights On</td>\n",
       "      <td>NaN</td>\n",
       "      <td>NaN</td>\n",
       "      <td>NaN</td>\n",
       "      <td>11</td>\n",
       "      <td>From same direction - both going straight - bo...</td>\n",
       "      <td>0</td>\n",
       "      <td>0</td>\n",
       "      <td>N</td>\n",
       "    </tr>\n",
       "    <tr>\n",
       "      <th>1</th>\n",
       "      <td>-122.319561</td>\n",
       "      <td>47.662221</td>\n",
       "      <td>2</td>\n",
       "      <td>328142</td>\n",
       "      <td>329642</td>\n",
       "      <td>EA06882</td>\n",
       "      <td>Matched</td>\n",
       "      <td>Block</td>\n",
       "      <td>NaN</td>\n",
       "      <td>8TH AVE NE BETWEEN NE 45TH E ST AND NE 47TH ST</td>\n",
       "      <td></td>\n",
       "      <td>NaN</td>\n",
       "      <td>1</td>\n",
       "      <td>Property Damage Only Collision</td>\n",
       "      <td>Parked Car</td>\n",
       "      <td>2</td>\n",
       "      <td>0</td>\n",
       "      <td>0</td>\n",
       "      <td>2</td>\n",
       "      <td>0</td>\n",
       "      <td>0</td>\n",
       "      <td>0</td>\n",
       "      <td>2020/01/07 00:00:00+00</td>\n",
       "      <td>1/7/2020 8:00:00 AM</td>\n",
       "      <td>Mid-Block (not related to intersection)</td>\n",
       "      <td>15.0</td>\n",
       "      <td>MOTOR VEHICLE STRUCK MOTOR VEHICLE, RIGHT SIDE...</td>\n",
       "      <td>NaN</td>\n",
       "      <td>N</td>\n",
       "      <td>Clear</td>\n",
       "      <td>Dry</td>\n",
       "      <td>Daylight</td>\n",
       "      <td>NaN</td>\n",
       "      <td>NaN</td>\n",
       "      <td>NaN</td>\n",
       "      <td>32</td>\n",
       "      <td>One parked--one moving</td>\n",
       "      <td>0</td>\n",
       "      <td>0</td>\n",
       "      <td>Y</td>\n",
       "    </tr>\n",
       "    <tr>\n",
       "      <th>2</th>\n",
       "      <td>-122.327525</td>\n",
       "      <td>47.604393</td>\n",
       "      <td>3</td>\n",
       "      <td>20700</td>\n",
       "      <td>20700</td>\n",
       "      <td>1181833</td>\n",
       "      <td>Unmatched</td>\n",
       "      <td>Block</td>\n",
       "      <td>NaN</td>\n",
       "      <td>JAMES ST BETWEEN 6TH AVE AND 7TH AVE</td>\n",
       "      <td>NaN</td>\n",
       "      <td>NaN</td>\n",
       "      <td>0</td>\n",
       "      <td>Unknown</td>\n",
       "      <td>NaN</td>\n",
       "      <td>0</td>\n",
       "      <td>0</td>\n",
       "      <td>0</td>\n",
       "      <td>0</td>\n",
       "      <td>0</td>\n",
       "      <td>0</td>\n",
       "      <td>0</td>\n",
       "      <td>2004/01/30 00:00:00+00</td>\n",
       "      <td>1/30/2004</td>\n",
       "      <td>Mid-Block (but intersection related)</td>\n",
       "      <td>11.0</td>\n",
       "      <td>MOTOR VEHICLE STRUCK MOTOR VEHICLE, FRONT END ...</td>\n",
       "      <td>NaN</td>\n",
       "      <td>NaN</td>\n",
       "      <td>NaN</td>\n",
       "      <td>NaN</td>\n",
       "      <td>NaN</td>\n",
       "      <td>NaN</td>\n",
       "      <td>4030032.0</td>\n",
       "      <td>NaN</td>\n",
       "      <td>NaN</td>\n",
       "      <td>NaN</td>\n",
       "      <td>0</td>\n",
       "      <td>0</td>\n",
       "      <td>N</td>\n",
       "    </tr>\n",
       "    <tr>\n",
       "      <th>3</th>\n",
       "      <td>-122.327525</td>\n",
       "      <td>47.708622</td>\n",
       "      <td>4</td>\n",
       "      <td>332126</td>\n",
       "      <td>333626</td>\n",
       "      <td>M16001640</td>\n",
       "      <td>Unmatched</td>\n",
       "      <td>Block</td>\n",
       "      <td>NaN</td>\n",
       "      <td>NE NORTHGATE WAY BETWEEN 1ST AVE NE AND NE NOR...</td>\n",
       "      <td></td>\n",
       "      <td>NaN</td>\n",
       "      <td>0</td>\n",
       "      <td>Unknown</td>\n",
       "      <td>NaN</td>\n",
       "      <td>0</td>\n",
       "      <td>0</td>\n",
       "      <td>0</td>\n",
       "      <td>0</td>\n",
       "      <td>0</td>\n",
       "      <td>0</td>\n",
       "      <td>0</td>\n",
       "      <td>2016/01/23 00:00:00+00</td>\n",
       "      <td>1/23/2016</td>\n",
       "      <td>Mid-Block (not related to intersection)</td>\n",
       "      <td>11.0</td>\n",
       "      <td>MOTOR VEHICLE STRUCK MOTOR VEHICLE, FRONT END ...</td>\n",
       "      <td>NaN</td>\n",
       "      <td>NaN</td>\n",
       "      <td>NaN</td>\n",
       "      <td>NaN</td>\n",
       "      <td>NaN</td>\n",
       "      <td>NaN</td>\n",
       "      <td>NaN</td>\n",
       "      <td>NaN</td>\n",
       "      <td></td>\n",
       "      <td>NaN</td>\n",
       "      <td>0</td>\n",
       "      <td>0</td>\n",
       "      <td>N</td>\n",
       "    </tr>\n",
       "    <tr>\n",
       "      <th>4</th>\n",
       "      <td>-122.292120</td>\n",
       "      <td>47.559009</td>\n",
       "      <td>5</td>\n",
       "      <td>328238</td>\n",
       "      <td>329738</td>\n",
       "      <td>3857118</td>\n",
       "      <td>Unmatched</td>\n",
       "      <td>Block</td>\n",
       "      <td>NaN</td>\n",
       "      <td>M L KING JR ER WAY S BETWEEN S ANGELINE ST AND...</td>\n",
       "      <td></td>\n",
       "      <td>NaN</td>\n",
       "      <td>0</td>\n",
       "      <td>Unknown</td>\n",
       "      <td>NaN</td>\n",
       "      <td>0</td>\n",
       "      <td>0</td>\n",
       "      <td>0</td>\n",
       "      <td>0</td>\n",
       "      <td>0</td>\n",
       "      <td>0</td>\n",
       "      <td>0</td>\n",
       "      <td>2020/01/26 00:00:00+00</td>\n",
       "      <td>1/26/2020</td>\n",
       "      <td>Mid-Block (not related to intersection)</td>\n",
       "      <td>28.0</td>\n",
       "      <td>MOTOR VEHICLE RAN OFF ROAD - HIT FIXED OBJECT</td>\n",
       "      <td>NaN</td>\n",
       "      <td>NaN</td>\n",
       "      <td>NaN</td>\n",
       "      <td>NaN</td>\n",
       "      <td>NaN</td>\n",
       "      <td>NaN</td>\n",
       "      <td>NaN</td>\n",
       "      <td>NaN</td>\n",
       "      <td></td>\n",
       "      <td>NaN</td>\n",
       "      <td>0</td>\n",
       "      <td>0</td>\n",
       "      <td>N</td>\n",
       "    </tr>\n",
       "  </tbody>\n",
       "</table>\n",
       "</div>"
      ],
      "text/plain": [
       "            X          Y  OBJECTID  INCKEY  COLDETKEY   REPORTNO     STATUS  \\\n",
       "0 -122.320757  47.609408         1  328476     329976    EA08706    Matched   \n",
       "1 -122.319561  47.662221         2  328142     329642    EA06882    Matched   \n",
       "2 -122.327525  47.604393         3   20700      20700    1181833  Unmatched   \n",
       "3 -122.327525  47.708622         4  332126     333626  M16001640  Unmatched   \n",
       "4 -122.292120  47.559009         5  328238     329738    3857118  Unmatched   \n",
       "\n",
       "  ADDRTYPE  INTKEY                                           LOCATION  \\\n",
       "0    Block     NaN    BROADWAY BETWEEN E COLUMBIA ST AND BOYLSTON AVE   \n",
       "1    Block     NaN     8TH AVE NE BETWEEN NE 45TH E ST AND NE 47TH ST   \n",
       "2    Block     NaN               JAMES ST BETWEEN 6TH AVE AND 7TH AVE   \n",
       "3    Block     NaN  NE NORTHGATE WAY BETWEEN 1ST AVE NE AND NE NOR...   \n",
       "4    Block     NaN  M L KING JR ER WAY S BETWEEN S ANGELINE ST AND...   \n",
       "\n",
       "  EXCEPTRSNCODE EXCEPTRSNDESC SEVERITYCODE                    SEVERITYDESC  \\\n",
       "0                         NaN            1  Property Damage Only Collision   \n",
       "1                         NaN            1  Property Damage Only Collision   \n",
       "2           NaN           NaN            0                         Unknown   \n",
       "3                         NaN            0                         Unknown   \n",
       "4                         NaN            0                         Unknown   \n",
       "\n",
       "  COLLISIONTYPE  PERSONCOUNT  PEDCOUNT  PEDCYLCOUNT  VEHCOUNT  INJURIES  \\\n",
       "0     Sideswipe            2         0            0         2         0   \n",
       "1    Parked Car            2         0            0         2         0   \n",
       "2           NaN            0         0            0         0         0   \n",
       "3           NaN            0         0            0         0         0   \n",
       "4           NaN            0         0            0         0         0   \n",
       "\n",
       "   SERIOUSINJURIES  FATALITIES                 INCDATE               INCDTTM  \\\n",
       "0                0           0  2020/01/22 00:00:00+00  1/22/2020 3:21:00 PM   \n",
       "1                0           0  2020/01/07 00:00:00+00   1/7/2020 8:00:00 AM   \n",
       "2                0           0  2004/01/30 00:00:00+00             1/30/2004   \n",
       "3                0           0  2016/01/23 00:00:00+00             1/23/2016   \n",
       "4                0           0  2020/01/26 00:00:00+00             1/26/2020   \n",
       "\n",
       "                              JUNCTIONTYPE  SDOT_COLCODE  \\\n",
       "0  Mid-Block (not related to intersection)          11.0   \n",
       "1  Mid-Block (not related to intersection)          15.0   \n",
       "2     Mid-Block (but intersection related)          11.0   \n",
       "3  Mid-Block (not related to intersection)          11.0   \n",
       "4  Mid-Block (not related to intersection)          28.0   \n",
       "\n",
       "                                        SDOT_COLDESC INATTENTIONIND UNDERINFL  \\\n",
       "0  MOTOR VEHICLE STRUCK MOTOR VEHICLE, FRONT END ...            NaN         N   \n",
       "1  MOTOR VEHICLE STRUCK MOTOR VEHICLE, RIGHT SIDE...            NaN         N   \n",
       "2  MOTOR VEHICLE STRUCK MOTOR VEHICLE, FRONT END ...            NaN       NaN   \n",
       "3  MOTOR VEHICLE STRUCK MOTOR VEHICLE, FRONT END ...            NaN       NaN   \n",
       "4      MOTOR VEHICLE RAN OFF ROAD - HIT FIXED OBJECT            NaN       NaN   \n",
       "\n",
       "   WEATHER ROADCOND                LIGHTCOND PEDROWNOTGRNT  SDOTCOLNUM  \\\n",
       "0  Raining      Wet  Dark - Street Lights On           NaN         NaN   \n",
       "1    Clear      Dry                 Daylight           NaN         NaN   \n",
       "2      NaN      NaN                      NaN           NaN   4030032.0   \n",
       "3      NaN      NaN                      NaN           NaN         NaN   \n",
       "4      NaN      NaN                      NaN           NaN         NaN   \n",
       "\n",
       "  SPEEDING ST_COLCODE                                         ST_COLDESC  \\\n",
       "0      NaN         11  From same direction - both going straight - bo...   \n",
       "1      NaN         32                             One parked--one moving   \n",
       "2      NaN        NaN                                                NaN   \n",
       "3      NaN                                                           NaN   \n",
       "4      NaN                                                           NaN   \n",
       "\n",
       "   SEGLANEKEY  CROSSWALKKEY HITPARKEDCAR  \n",
       "0           0             0            N  \n",
       "1           0             0            Y  \n",
       "2           0             0            N  \n",
       "3           0             0            N  \n",
       "4           0             0            N  "
      ]
     },
     "execution_count": 140,
     "metadata": {},
     "output_type": "execute_result"
    }
   ],
   "source": [
    "df.head()"
   ]
  },
  {
   "cell_type": "code",
   "execution_count": 141,
   "metadata": {},
   "outputs": [
    {
     "data": {
      "text/plain": [
       "(221389, 40)"
      ]
     },
     "execution_count": 141,
     "metadata": {},
     "output_type": "execute_result"
    }
   ],
   "source": [
    "df.shape"
   ]
  },
  {
   "cell_type": "code",
   "execution_count": 142,
   "metadata": {},
   "outputs": [
    {
     "name": "stdout",
     "output_type": "stream",
     "text": [
      "<class 'pandas.core.frame.DataFrame'>\n",
      "RangeIndex: 221389 entries, 0 to 221388\n",
      "Data columns (total 40 columns):\n",
      " #   Column           Non-Null Count   Dtype  \n",
      "---  ------           --------------   -----  \n",
      " 0   X                213918 non-null  float64\n",
      " 1   Y                213918 non-null  float64\n",
      " 2   OBJECTID         221389 non-null  int64  \n",
      " 3   INCKEY           221389 non-null  int64  \n",
      " 4   COLDETKEY        221389 non-null  int64  \n",
      " 5   REPORTNO         221389 non-null  object \n",
      " 6   STATUS           221389 non-null  object \n",
      " 7   ADDRTYPE         217677 non-null  object \n",
      " 8   INTKEY           71884 non-null   float64\n",
      " 9   LOCATION         216801 non-null  object \n",
      " 10  EXCEPTRSNCODE    100986 non-null  object \n",
      " 11  EXCEPTRSNDESC    11779 non-null   object \n",
      " 12  SEVERITYCODE     221388 non-null  object \n",
      " 13  SEVERITYDESC     221389 non-null  object \n",
      " 14  COLLISIONTYPE    195159 non-null  object \n",
      " 15  PERSONCOUNT      221389 non-null  int64  \n",
      " 16  PEDCOUNT         221389 non-null  int64  \n",
      " 17  PEDCYLCOUNT      221389 non-null  int64  \n",
      " 18  VEHCOUNT         221389 non-null  int64  \n",
      " 19  INJURIES         221389 non-null  int64  \n",
      " 20  SERIOUSINJURIES  221389 non-null  int64  \n",
      " 21  FATALITIES       221389 non-null  int64  \n",
      " 22  INCDATE          221389 non-null  object \n",
      " 23  INCDTTM          221389 non-null  object \n",
      " 24  JUNCTIONTYPE     209417 non-null  object \n",
      " 25  SDOT_COLCODE     221388 non-null  float64\n",
      " 26  SDOT_COLDESC     221388 non-null  object \n",
      " 27  INATTENTIONIND   30188 non-null   object \n",
      " 28  UNDERINFL        195179 non-null  object \n",
      " 29  WEATHER          194969 non-null  object \n",
      " 30  ROADCOND         195050 non-null  object \n",
      " 31  LIGHTCOND        194880 non-null  object \n",
      " 32  PEDROWNOTGRNT    5192 non-null    object \n",
      " 33  SDOTCOLNUM       127205 non-null  float64\n",
      " 34  SPEEDING         9928 non-null    object \n",
      " 35  ST_COLCODE       211976 non-null  object \n",
      " 36  ST_COLDESC       195159 non-null  object \n",
      " 37  SEGLANEKEY       221389 non-null  int64  \n",
      " 38  CROSSWALKKEY     221389 non-null  int64  \n",
      " 39  HITPARKEDCAR     221389 non-null  object \n",
      "dtypes: float64(5), int64(12), object(23)\n",
      "memory usage: 67.6+ MB\n"
     ]
    }
   ],
   "source": [
    "df.info()"
   ]
  },
  {
   "cell_type": "code",
   "execution_count": 143,
   "metadata": {},
   "outputs": [
    {
     "data": {
      "text/plain": [
       "array(['X', 'Y', 'OBJECTID', 'INCKEY', 'COLDETKEY', 'REPORTNO', 'STATUS',\n",
       "       'ADDRTYPE', 'INTKEY', 'LOCATION', 'EXCEPTRSNCODE', 'EXCEPTRSNDESC',\n",
       "       'SEVERITYCODE', 'SEVERITYDESC', 'COLLISIONTYPE', 'PERSONCOUNT',\n",
       "       'PEDCOUNT', 'PEDCYLCOUNT', 'VEHCOUNT', 'INJURIES',\n",
       "       'SERIOUSINJURIES', 'FATALITIES', 'INCDATE', 'INCDTTM',\n",
       "       'JUNCTIONTYPE', 'SDOT_COLCODE', 'SDOT_COLDESC', 'INATTENTIONIND',\n",
       "       'UNDERINFL', 'WEATHER', 'ROADCOND', 'LIGHTCOND', 'PEDROWNOTGRNT',\n",
       "       'SDOTCOLNUM', 'SPEEDING', 'ST_COLCODE', 'ST_COLDESC', 'SEGLANEKEY',\n",
       "       'CROSSWALKKEY', 'HITPARKEDCAR'], dtype=object)"
      ]
     },
     "execution_count": 143,
     "metadata": {},
     "output_type": "execute_result"
    }
   ],
   "source": [
    "df.columns.values"
   ]
  },
  {
   "cell_type": "code",
   "execution_count": 144,
   "metadata": {},
   "outputs": [
    {
     "data": {
      "text/plain": [
       "<matplotlib.axes._subplots.AxesSubplot at 0x22dad3e0b08>"
      ]
     },
     "execution_count": 144,
     "metadata": {},
     "output_type": "execute_result"
    },
    {
     "data": {
      "image/png": "[encoded data removed]",
      "text/plain": [
       "<Figure size 432x288 with 1 Axes>"
      ]
     },
     "metadata": {},
     "output_type": "display_data"
    }
   ],
   "source": [
    "df.dtypes.value_counts().plot(kind='bar')"
   ]
  },
  {
   "cell_type": "code",
   "execution_count": 145,
   "metadata": {},
   "outputs": [
    {
     "data": {
      "text/plain": [
       "X                    7471\n",
       "Y                    7471\n",
       "OBJECTID                0\n",
       "INCKEY                  0\n",
       "COLDETKEY               0\n",
       "REPORTNO                0\n",
       "STATUS                  0\n",
       "ADDRTYPE             3712\n",
       "INTKEY             149505\n",
       "LOCATION             4588\n",
       "EXCEPTRSNCODE      120403\n",
       "EXCEPTRSNDESC      209610\n",
       "SEVERITYCODE            1\n",
       "SEVERITYDESC            0\n",
       "COLLISIONTYPE       26230\n",
       "PERSONCOUNT             0\n",
       "PEDCOUNT                0\n",
       "PEDCYLCOUNT             0\n",
       "VEHCOUNT                0\n",
       "INJURIES                0\n",
       "SERIOUSINJURIES         0\n",
       "FATALITIES              0\n",
       "INCDATE                 0\n",
       "INCDTTM                 0\n",
       "JUNCTIONTYPE        11972\n",
       "SDOT_COLCODE            1\n",
       "SDOT_COLDESC            1\n",
       "INATTENTIONIND     191201\n",
       "UNDERINFL           26210\n",
       "WEATHER             26420\n",
       "ROADCOND            26339\n",
       "LIGHTCOND           26509\n",
       "PEDROWNOTGRNT      216197\n",
       "SDOTCOLNUM          94184\n",
       "SPEEDING           211461\n",
       "ST_COLCODE           9413\n",
       "ST_COLDESC          26230\n",
       "SEGLANEKEY              0\n",
       "CROSSWALKKEY            0\n",
       "HITPARKEDCAR            0\n",
       "dtype: int64"
      ]
     },
     "execution_count": 145,
     "metadata": {},
     "output_type": "execute_result"
    }
   ],
   "source": [
    "Null_values = df.isnull().sum()\n",
    "Null_values[0:40]"
   ]
  },
  {
   "cell_type": "code",
   "execution_count": 146,
   "metadata": {},
   "outputs": [],
   "source": [
    "df1= df.drop(['X','Y','INTKEY','COLDETKEY','REPORTNO','LOCATION','EXCEPTRSNCODE','EXCEPTRSNDESC','SEVERITYDESC','INJURIES','SERIOUSINJURIES','FATALITIES','INCDATE','INCDTTM','SDOT_COLCODE','SDOT_COLDESC','INATTENTIONIND','UNDERINFL','PEDROWNOTGRNT','SDOTCOLNUM','SPEEDING','ST_COLDESC','SEGLANEKEY','CROSSWALKKEY','HITPARKEDCAR'],axis=1)"
   ]
  },
  {
   "cell_type": "code",
   "execution_count": 147,
   "metadata": {},
   "outputs": [
    {
     "data": {
      "text/plain": [
       "<matplotlib.axes._subplots.AxesSubplot at 0x22dad6809c8>"
      ]
     },
     "execution_count": 147,
     "metadata": {},
     "output_type": "execute_result"
    },
    {
     "data": {
      "image/png": "[encoded data removed]",
      "text/plain": [
       "<Figure size 432x288 with 1 Axes>"
      ]
     },
     "metadata": {},
     "output_type": "display_data"
    }
   ],
   "source": [
    "df1.dtypes.value_counts().plot(kind='bar')"
   ]
  },
  {
   "cell_type": "code",
   "execution_count": 148,
   "metadata": {},
   "outputs": [
    {
     "data": {
      "text/plain": [
       "<matplotlib.axes._subplots.AxesSubplot at 0x22db0ac0b08>"
      ]
     },
     "execution_count": 148,
     "metadata": {},
     "output_type": "execute_result"
    },
    {
     "data": {
      "image/png": "[encoded data removed]",
      "text/plain": [
       "<Figure size 432x288 with 1 Axes>"
      ]
     },
     "metadata": {},
     "output_type": "display_data"
    }
   ],
   "source": [
    "sns.countplot(df1['STATUS'], data=df1)"
   ]
  },
  {
   "cell_type": "code",
   "execution_count": 149,
   "metadata": {},
   "outputs": [
    {
     "data": {
      "text/plain": [
       "<matplotlib.axes._subplots.AxesSubplot at 0x22db0e6fc08>"
      ]
     },
     "execution_count": 149,
     "metadata": {},
     "output_type": "execute_result"
    },
    {
     "data": {
      "image/png": "[encoded data removed]",
      "text/plain": [
       "<Figure size 432x288 with 1 Axes>"
      ]
     },
     "metadata": {},
     "output_type": "display_data"
    }
   ],
   "source": [
    "sns.countplot(df1['ADDRTYPE'], data=df1)"
   ]
  },
  {
   "cell_type": "code",
   "execution_count": 150,
   "metadata": {},
   "outputs": [],
   "source": [
    "df = df1"
   ]
  },
  {
   "cell_type": "code",
   "execution_count": 151,
   "metadata": {},
   "outputs": [
    {
     "data": {
      "text/plain": [
       "(221389, 15)"
      ]
     },
     "execution_count": 151,
     "metadata": {},
     "output_type": "execute_result"
    }
   ],
   "source": [
    "df.shape"
   ]
  },
  {
   "cell_type": "code",
   "execution_count": 152,
   "metadata": {},
   "outputs": [
    {
     "data": {
      "text/plain": [
       "OBJECTID             0\n",
       "INCKEY               0\n",
       "STATUS               0\n",
       "ADDRTYPE          3712\n",
       "SEVERITYCODE         1\n",
       "COLLISIONTYPE    26230\n",
       "PERSONCOUNT          0\n",
       "PEDCOUNT             0\n",
       "PEDCYLCOUNT          0\n",
       "VEHCOUNT             0\n",
       "JUNCTIONTYPE     11972\n",
       "WEATHER          26420\n",
       "ROADCOND         26339\n",
       "LIGHTCOND        26509\n",
       "ST_COLCODE        9413\n",
       "dtype: int64"
      ]
     },
     "execution_count": 152,
     "metadata": {},
     "output_type": "execute_result"
    }
   ],
   "source": [
    "Null_values = df.isnull().sum()\n",
    "Null_values[0:15]"
   ]
  },
  {
   "cell_type": "code",
   "execution_count": 153,
   "metadata": {},
   "outputs": [],
   "source": [
    "df['ST_COLCODE'] = df['ST_COLCODE'].fillna(0)\n",
    "df['SEVERITYCODE'] = df['SEVERITYCODE'].fillna(0)\n",
    "\n",
    "df['ADDRTYPE'] = df['ADDRTYPE'].fillna(0)\n",
    "df['ADDRTYPE'] = df['ADDRTYPE'].replace(0,'others')\n",
    "\n",
    "df['WEATHER'] = df['WEATHER'].fillna(0)\n",
    "df['WEATHER'] = df['WEATHER'].replace(0,'others')\n",
    "\n",
    "df['ROADCOND'] = df['ROADCOND'].fillna(0)\n",
    "df['ROADCOND'] = df['ROADCOND'].replace(0,'others')\n",
    "\n",
    "df['LIGHTCOND'] = df['LIGHTCOND'].fillna(0)\n",
    "df['LIGHTCOND'] = df['LIGHTCOND'].replace(0,'others')\n",
    "\n",
    "df['COLLISIONTYPE'] = df['COLLISIONTYPE'].fillna(0)\n",
    "df['COLLISIONTYPE'] = df['COLLISIONTYPE'].replace(0,'others')\n",
    "\n",
    "df['JUNCTIONTYPE'] = df['JUNCTIONTYPE'].fillna(0)\n",
    "df['JUNCTIONTYPE'] = df['JUNCTIONTYPE'].replace(0,'others')"
   ]
  },
  {
   "cell_type": "code",
   "execution_count": 154,
   "metadata": {},
   "outputs": [
    {
     "data": {
      "text/plain": [
       "OBJECTID         0\n",
       "INCKEY           0\n",
       "STATUS           0\n",
       "ADDRTYPE         0\n",
       "SEVERITYCODE     0\n",
       "COLLISIONTYPE    0\n",
       "PERSONCOUNT      0\n",
       "PEDCOUNT         0\n",
       "PEDCYLCOUNT      0\n",
       "VEHCOUNT         0\n",
       "JUNCTIONTYPE     0\n",
       "WEATHER          0\n",
       "ROADCOND         0\n",
       "LIGHTCOND        0\n",
       "ST_COLCODE       0\n",
       "dtype: int64"
      ]
     },
     "execution_count": 154,
     "metadata": {},
     "output_type": "execute_result"
    }
   ],
   "source": [
    "Null_values = df.isnull().sum()\n",
    "Null_values[0:15]"
   ]
  },
  {
   "cell_type": "code",
   "execution_count": 155,
   "metadata": {},
   "outputs": [],
   "source": [
    "from sklearn import preprocessing\n",
    "addrtype = preprocessing.LabelEncoder()\n",
    "addrtype.fit(['Intersection','Block','Alley','others'])\n",
    "df['ADDRTYPE'] = addrtype.transform(df['ADDRTYPE'])"
   ]
  },
  {
   "cell_type": "code",
   "execution_count": 156,
   "metadata": {},
   "outputs": [],
   "source": [
    "from sklearn import preprocessing\n",
    "status = preprocessing.LabelEncoder()\n",
    "status.fit(['Unmatched','Matched'])\n",
    "df['STATUS'] = status.transform(df['STATUS'])"
   ]
  },
  {
   "cell_type": "code",
   "execution_count": 157,
   "metadata": {},
   "outputs": [],
   "source": [
    "from sklearn import preprocessing\n",
    "weathercond = preprocessing.LabelEncoder()\n",
    "weathercond.fit(df['WEATHER'])\n",
    "df['WEATHER'] = weathercond.transform(df['WEATHER'])"
   ]
  },
  {
   "cell_type": "code",
   "execution_count": 158,
   "metadata": {},
   "outputs": [],
   "source": [
    "from sklearn import preprocessing\n",
    "roadcond = preprocessing.LabelEncoder()\n",
    "roadcond.fit(df['ROADCOND'])\n",
    "df['ROADCOND'] = roadcond.transform(df['ROADCOND'])"
   ]
  },
  {
   "cell_type": "code",
   "execution_count": 159,
   "metadata": {},
   "outputs": [],
   "source": [
    "from sklearn import preprocessing\n",
    "light = preprocessing.LabelEncoder()\n",
    "light.fit(df['LIGHTCOND'])\n",
    "df['LIGHTCOND'] = light.transform(df['LIGHTCOND'])"
   ]
  },
  {
   "cell_type": "code",
   "execution_count": 160,
   "metadata": {},
   "outputs": [],
   "source": [
    "from sklearn import preprocessing\n",
    "coll = preprocessing.LabelEncoder()\n",
    "coll.fit(df['COLLISIONTYPE'])\n",
    "df['COLLISIONTYPE'] = coll.transform(df['COLLISIONTYPE'])"
   ]
  },
  {
   "cell_type": "code",
   "execution_count": 161,
   "metadata": {},
   "outputs": [],
   "source": [
    "from sklearn import preprocessing\n",
    "jun = preprocessing.LabelEncoder()\n",
    "jun.fit(df['JUNCTIONTYPE'])\n",
    "df['JUNCTIONTYPE'] = jun.transform(df['JUNCTIONTYPE'])"
   ]
  },
  {
   "cell_type": "code",
   "execution_count": 162,
   "metadata": {},
   "outputs": [
    {
     "data": {
      "text/html": [
       "<div>\n",
       "<style scoped>\n",
       "    .dataframe tbody tr th:only-of-type {\n",
       "        vertical-align: middle;\n",
       "    }\n",
       "\n",
       "    .dataframe tbody tr th {\n",
       "        vertical-align: top;\n",
       "    }\n",
       "\n",
       "    .dataframe thead th {\n",
       "        text-align: right;\n",
       "    }\n",
       "</style>\n",
       "<table border=\"1\" class=\"dataframe\">\n",
       "  <thead>\n",
       "    <tr style=\"text-align: right;\">\n",
       "      <th></th>\n",
       "      <th>OBJECTID</th>\n",
       "      <th>INCKEY</th>\n",
       "      <th>STATUS</th>\n",
       "      <th>ADDRTYPE</th>\n",
       "      <th>SEVERITYCODE</th>\n",
       "      <th>COLLISIONTYPE</th>\n",
       "      <th>PERSONCOUNT</th>\n",
       "      <th>PEDCOUNT</th>\n",
       "      <th>PEDCYLCOUNT</th>\n",
       "      <th>VEHCOUNT</th>\n",
       "      <th>JUNCTIONTYPE</th>\n",
       "      <th>WEATHER</th>\n",
       "      <th>ROADCOND</th>\n",
       "      <th>LIGHTCOND</th>\n",
       "      <th>ST_COLCODE</th>\n",
       "    </tr>\n",
       "  </thead>\n",
       "  <tbody>\n",
       "    <tr>\n",
       "      <th>0</th>\n",
       "      <td>1</td>\n",
       "      <td>328476</td>\n",
       "      <td>0</td>\n",
       "      <td>1</td>\n",
       "      <td>1</td>\n",
       "      <td>9</td>\n",
       "      <td>2</td>\n",
       "      <td>0</td>\n",
       "      <td>0</td>\n",
       "      <td>2</td>\n",
       "      <td>4</td>\n",
       "      <td>7</td>\n",
       "      <td>8</td>\n",
       "      <td>2</td>\n",
       "      <td>11</td>\n",
       "    </tr>\n",
       "    <tr>\n",
       "      <th>1</th>\n",
       "      <td>2</td>\n",
       "      <td>328142</td>\n",
       "      <td>0</td>\n",
       "      <td>1</td>\n",
       "      <td>1</td>\n",
       "      <td>5</td>\n",
       "      <td>2</td>\n",
       "      <td>0</td>\n",
       "      <td>0</td>\n",
       "      <td>2</td>\n",
       "      <td>4</td>\n",
       "      <td>2</td>\n",
       "      <td>0</td>\n",
       "      <td>5</td>\n",
       "      <td>32</td>\n",
       "    </tr>\n",
       "    <tr>\n",
       "      <th>2</th>\n",
       "      <td>3</td>\n",
       "      <td>20700</td>\n",
       "      <td>1</td>\n",
       "      <td>1</td>\n",
       "      <td>0</td>\n",
       "      <td>10</td>\n",
       "      <td>0</td>\n",
       "      <td>0</td>\n",
       "      <td>0</td>\n",
       "      <td>0</td>\n",
       "      <td>3</td>\n",
       "      <td>12</td>\n",
       "      <td>9</td>\n",
       "      <td>9</td>\n",
       "      <td>0</td>\n",
       "    </tr>\n",
       "    <tr>\n",
       "      <th>3</th>\n",
       "      <td>4</td>\n",
       "      <td>332126</td>\n",
       "      <td>1</td>\n",
       "      <td>1</td>\n",
       "      <td>0</td>\n",
       "      <td>10</td>\n",
       "      <td>0</td>\n",
       "      <td>0</td>\n",
       "      <td>0</td>\n",
       "      <td>0</td>\n",
       "      <td>4</td>\n",
       "      <td>12</td>\n",
       "      <td>9</td>\n",
       "      <td>9</td>\n",
       "      <td></td>\n",
       "    </tr>\n",
       "    <tr>\n",
       "      <th>4</th>\n",
       "      <td>5</td>\n",
       "      <td>328238</td>\n",
       "      <td>1</td>\n",
       "      <td>1</td>\n",
       "      <td>0</td>\n",
       "      <td>10</td>\n",
       "      <td>0</td>\n",
       "      <td>0</td>\n",
       "      <td>0</td>\n",
       "      <td>0</td>\n",
       "      <td>4</td>\n",
       "      <td>12</td>\n",
       "      <td>9</td>\n",
       "      <td>9</td>\n",
       "      <td></td>\n",
       "    </tr>\n",
       "  </tbody>\n",
       "</table>\n",
       "</div>"
      ],
      "text/plain": [
       "   OBJECTID  INCKEY  STATUS  ADDRTYPE SEVERITYCODE  COLLISIONTYPE  \\\n",
       "0         1  328476       0         1            1              9   \n",
       "1         2  328142       0         1            1              5   \n",
       "2         3   20700       1         1            0             10   \n",
       "3         4  332126       1         1            0             10   \n",
       "4         5  328238       1         1            0             10   \n",
       "\n",
       "   PERSONCOUNT  PEDCOUNT  PEDCYLCOUNT  VEHCOUNT  JUNCTIONTYPE  WEATHER  \\\n",
       "0            2         0            0         2             4        7   \n",
       "1            2         0            0         2             4        2   \n",
       "2            0         0            0         0             3       12   \n",
       "3            0         0            0         0             4       12   \n",
       "4            0         0            0         0             4       12   \n",
       "\n",
       "   ROADCOND  LIGHTCOND ST_COLCODE  \n",
       "0         8          2         11  \n",
       "1         0          5         32  \n",
       "2         9          9          0  \n",
       "3         9          9             \n",
       "4         9          9             "
      ]
     },
     "execution_count": 162,
     "metadata": {},
     "output_type": "execute_result"
    }
   ],
   "source": [
    "df.head()"
   ]
  },
  {
   "cell_type": "code",
   "execution_count": 163,
   "metadata": {},
   "outputs": [
    {
     "data": {
      "text/plain": [
       "<matplotlib.axes._subplots.AxesSubplot at 0x22db0d09888>"
      ]
     },
     "execution_count": 163,
     "metadata": {},
     "output_type": "execute_result"
    },
    {
     "data": {
      "image/png": "[encoded data removed]",
      "text/plain": [
       "<Figure size 432x288 with 1 Axes>"
      ]
     },
     "metadata": {},
     "output_type": "display_data"
    }
   ],
   "source": [
    "sns.countplot(df['SEVERITYCODE'], data=df)"
   ]
  },
  {
   "cell_type": "code",
   "execution_count": 164,
   "metadata": {},
   "outputs": [
    {
     "data": {
      "text/plain": [
       "<matplotlib.axes._subplots.AxesSubplot at 0x22db0e02f88>"
      ]
     },
     "execution_count": 164,
     "metadata": {},
     "output_type": "execute_result"
    },
    {
     "data": {
      "image/png": "[encoded data removed]",
      "text/plain": [
       "<Figure size 720x360 with 4 Axes>"
      ]
     },
     "metadata": {},
     "output_type": "display_data"
    }
   ],
   "source": [
    "fig, axes = plt.subplots(2, 2, sharex=True, figsize=(10,5))\n",
    "sns.boxplot(ax=axes[0, 0], data=df, x='SEVERITYCODE', y='ADDRTYPE')\n",
    "sns.boxplot(ax=axes[0, 1], data=df, x='SEVERITYCODE', y='STATUS')\n",
    "sns.boxplot(ax=axes[1, 0], data=df, x='SEVERITYCODE', y='WEATHER')\n",
    "sns.boxplot(ax=axes[1, 1], data=df, x='SEVERITYCODE', y='ROADCOND')"
   ]
  },
  {
   "cell_type": "code",
   "execution_count": 165,
   "metadata": {},
   "outputs": [
    {
     "data": {
      "text/plain": [
       "<seaborn.axisgrid.PairGrid at 0x22d965f4f88>"
      ]
     },
     "execution_count": 165,
     "metadata": {},
     "output_type": "execute_result"
    },
    {
     "data": {
      "image/png": "[encoded data removed]",
      "text/plain": [
       "<Figure size 540x540 with 12 Axes>"
      ]
     },
     "metadata": {},
     "output_type": "display_data"
    }
   ],
   "source": [
    "sns.pairplot(df[['SEVERITYCODE','ADDRTYPE','WEATHER','ROADCOND']])"
   ]
  },
  {
   "cell_type": "code",
   "execution_count": 166,
   "metadata": {},
   "outputs": [
    {
     "data": {
      "text/plain": [
       "<matplotlib.axes._subplots.AxesSubplot at 0x22dace80c88>"
      ]
     },
     "execution_count": 166,
     "metadata": {},
     "output_type": "execute_result"
    },
    {
     "data": {
      "image/png": "[encoded data removed]",
      "text/plain": [
       "<Figure size 432x288 with 2 Axes>"
      ]
     },
     "metadata": {},
     "output_type": "display_data"
    }
   ],
   "source": [
    "sns.heatmap(df.corr(),cmap=\"Blues\", linewidth=0.3, cbar_kws={\"shrink\": .8})"
   ]
  },
  {
   "cell_type": "code",
   "execution_count": 167,
   "metadata": {},
   "outputs": [
    {
     "data": {
      "text/plain": [
       "<matplotlib.axes._subplots.AxesSubplot at 0x22dad08c908>"
      ]
     },
     "execution_count": 167,
     "metadata": {},
     "output_type": "execute_result"
    },
    {
     "data": {
      "image/png": "[encoded data removed]",
      "text/plain": [
       "<Figure size 720x432 with 1 Axes>"
      ]
     },
     "metadata": {},
     "output_type": "display_data"
    }
   ],
   "source": [
    "df[['ADDRTYPE', 'SEVERITYCODE','COLLISIONTYPE','JUNCTIONTYPE', 'WEATHER', 'ROADCOND', 'LIGHTCOND']].plot(kind='hist', figsize=(10,6), alpha=0.5, stacked=False)"
   ]
  },
  {
   "cell_type": "code",
   "execution_count": 168,
   "metadata": {},
   "outputs": [],
   "source": [
    "from sklearn.model_selection import train_test_split\n",
    "from sklearn.neighbors import KNeighborsClassifier\n",
    "from sklearn.tree import DecisionTreeClassifier\n",
    "from sklearn import svm\n",
    "from sklearn.linear_model import LogisticRegression\n",
    "from sklearn.naive_bayes import GaussianNB\n",
    "from sklearn.ensemble import RandomForestClassifier\n",
    "from sklearn.metrics import accuracy_score, f1_score, r2_score, confusion_matrix, classification_report"
   ]
  },
  {
   "cell_type": "code",
   "execution_count": 169,
   "metadata": {},
   "outputs": [],
   "source": [
    "df2 = pd.read_csv('Downloads/newdatacollisions.csv')"
   ]
  },
  {
   "cell_type": "code",
   "execution_count": 170,
   "metadata": {},
   "outputs": [],
   "source": [
    "X = df2[['OBJECTID','INCKEY','STATUS','ADDRTYPE','COLLISIONTYPE','PERSONCOUNT','PEDCOUNT','PEDCYLCOUNT','VEHCOUNT','JUNCTIONTYPE', 'WEATHER', 'ROADCOND', 'LIGHTCOND']]\n",
    "y = df2['SEVERITYCODE']\n",
    "X_train, X_test, y_train, y_test = train_test_split(X, y, test_size=0.2, random_state=1)"
   ]
  },
  {
   "cell_type": "code",
   "execution_count": 172,
   "metadata": {},
   "outputs": [
    {
     "name": "stdout",
     "output_type": "stream",
     "text": [
      "Train set size\n",
      "(155738, 13)\n",
      "(155738,)\n",
      "\n",
      "Test set size\n",
      "(38935, 13)\n",
      "(38935,)\n"
     ]
    }
   ],
   "source": [
    "print(\"Train set size\")\n",
    "print(X_train.shape)\n",
    "print(y_train.shape)\n",
    "print('')\n",
    "print(\"Test set size\")\n",
    "print(X_test.shape)\n",
    "print(y_test.shape)"
   ]
  },
  {
   "cell_type": "code",
   "execution_count": 173,
   "metadata": {},
   "outputs": [
    {
     "data": {
      "text/plain": [
       "KNeighborsClassifier(algorithm='auto', leaf_size=30, metric='minkowski',\n",
       "                     metric_params=None, n_jobs=None, n_neighbors=17, p=2,\n",
       "                     weights='uniform')"
      ]
     },
     "execution_count": 173,
     "metadata": {},
     "output_type": "execute_result"
    }
   ],
   "source": [
    "#K Nearest Neighbors\n",
    "k=17\n",
    "knn = KNeighborsClassifier(n_neighbors = k).fit(X_train,y_train)\n",
    "knn"
   ]
  },
  {
   "cell_type": "code",
   "execution_count": 174,
   "metadata": {},
   "outputs": [
    {
     "data": {
      "text/plain": [
       "array([1, 1, 1, ..., 1, 1, 1], dtype=int64)"
      ]
     },
     "execution_count": 174,
     "metadata": {},
     "output_type": "execute_result"
    }
   ],
   "source": [
    "knn_pred = knn.predict(X_test)\n",
    "knn_pred"
   ]
  },
  {
   "cell_type": "code",
   "execution_count": 175,
   "metadata": {},
   "outputs": [
    {
     "name": "stdout",
     "output_type": "stream",
     "text": [
      "Score: 0.6867856684217285\n",
      "F1-Score: 0.8104688932751037\n",
      "\n",
      "Confusion Martix:\n",
      "[[26074  1285]\n",
      " [10910   666]]\n",
      "\n",
      "Classification Report:\n",
      "              precision    recall  f1-score   support\n",
      "\n",
      "           1       0.71      0.95      0.81     27359\n",
      "           2       0.34      0.06      0.10     11576\n",
      "\n",
      "    accuracy                           0.69     38935\n",
      "   macro avg       0.52      0.51      0.45     38935\n",
      "weighted avg       0.60      0.69      0.60     38935\n",
      "\n"
     ]
    }
   ],
   "source": [
    "print('Score:',accuracy_score(knn_pred, y_test))\n",
    "print('F1-Score:',f1_score(knn_pred, y_test))\n",
    "print('')\n",
    "print('Confusion Martix:')\n",
    "print(confusion_matrix(y_test, knn_pred))\n",
    "print('')\n",
    "print('Classification Report:')\n",
    "print (classification_report(y_test, knn_pred))"
   ]
  },
  {
   "cell_type": "code",
   "execution_count": 180,
   "metadata": {},
   "outputs": [
    {
     "data": {
      "text/plain": [
       "array([0.59196096, 0.66955182, 0.62211378, 0.67194041, 0.64124823,\n",
       "       0.67769359, 0.65319122, 0.68103249, 0.66477462, 0.6865802 ,\n",
       "       0.67358418, 0.68801849, 0.67915757, 0.69053551, 0.68370361,\n",
       "       0.69382304, 0.68678567, 0.69590343, 0.69084371])"
      ]
     },
     "execution_count": 180,
     "metadata": {},
     "output_type": "execute_result"
    }
   ],
   "source": [
    "Ks = 20\n",
    "mean_acc = np.zeros((Ks-1))\n",
    "std_acc = np.zeros((Ks-1))\n",
    "ConfustionMx = [];\n",
    "for n in range(1,Ks):\n",
    "    \n",
    "    #Train Model and Predict  \n",
    "    knn = KNeighborsClassifier(n_neighbors = n).fit(X_train,y_train)\n",
    "    pred=knn.predict(X_test)\n",
    "    mean_acc[n-1] = accuracy_score(y_test, pred)\n",
    "\n",
    "    \n",
    "    std_acc[n-1]=np.std(pred==y_test)/np.sqrt(pred.shape[0])\n",
    "\n",
    "mean_acc"
   ]
  },
  {
   "cell_type": "code",
   "execution_count": 181,
   "metadata": {},
   "outputs": [
    {
     "data": {
      "image/png": "[encoded data removed]",
      "text/plain": [
       "<Figure size 432x288 with 1 Axes>"
      ]
     },
     "metadata": {},
     "output_type": "display_data"
    }
   ],
   "source": [
    "plt.plot(range(1,Ks),mean_acc,'g')\n",
    "plt.fill_between(range(1,Ks),mean_acc - 1 * std_acc,mean_acc + 1 * std_acc, alpha=0.10)\n",
    "plt.legend(('Accuracy ', '+/- 3xstd'))\n",
    "plt.ylabel('Accuracy ')\n",
    "plt.xlabel('Number of Nabors (K)')\n",
    "plt.tight_layout()\n",
    "plt.show()"
   ]
  },
  {
   "cell_type": "code",
   "execution_count": 182,
   "metadata": {},
   "outputs": [
    {
     "data": {
      "text/plain": [
       "DecisionTreeClassifier(ccp_alpha=0.0, class_weight=None, criterion='gini',\n",
       "                       max_depth=4, max_features=None, max_leaf_nodes=None,\n",
       "                       min_impurity_decrease=0.0, min_impurity_split=None,\n",
       "                       min_samples_leaf=1, min_samples_split=2,\n",
       "                       min_weight_fraction_leaf=0.0, presort='deprecated',\n",
       "                       random_state=None, splitter='best')"
      ]
     },
     "execution_count": 182,
     "metadata": {},
     "output_type": "execute_result"
    }
   ],
   "source": [
    "#Decision Tree\n",
    "tree = DecisionTreeClassifier(criterion=\"gini\", max_depth = 4).fit(X_train, y_train)\n",
    "tree"
   ]
  },
  {
   "cell_type": "code",
   "execution_count": 183,
   "metadata": {},
   "outputs": [
    {
     "data": {
      "text/plain": [
       "array([1, 2, 1, ..., 1, 1, 1], dtype=int64)"
      ]
     },
     "execution_count": 183,
     "metadata": {},
     "output_type": "execute_result"
    }
   ],
   "source": [
    "tree_pred = tree.predict(X_test)\n",
    "tree_pred"
   ]
  },
  {
   "cell_type": "code",
   "execution_count": 184,
   "metadata": {},
   "outputs": [
    {
     "name": "stdout",
     "output_type": "stream",
     "text": [
      "Score: 0.7506613586747143\n",
      "F1-Score: 0.84807036213966\n",
      "\n",
      "Confusion Martix:\n",
      "[[27095   264]\n",
      " [ 9444  2132]]\n",
      "\n",
      "Classification Report:\n",
      "              precision    recall  f1-score   support\n",
      "\n",
      "           1       0.74      0.99      0.85     27359\n",
      "           2       0.89      0.18      0.31     11576\n",
      "\n",
      "    accuracy                           0.75     38935\n",
      "   macro avg       0.82      0.59      0.58     38935\n",
      "weighted avg       0.79      0.75      0.69     38935\n",
      "\n"
     ]
    }
   ],
   "source": [
    "print('Score:',accuracy_score(tree_pred, y_test))\n",
    "print('F1-Score:',f1_score(tree_pred, y_test))\n",
    "print('')\n",
    "print('Confusion Martix:')\n",
    "print(confusion_matrix(y_test, tree_pred))\n",
    "print('')\n",
    "print('Classification Report:')\n",
    "print (classification_report(y_test, tree_pred))"
   ]
  },
  {
   "cell_type": "code",
   "execution_count": 185,
   "metadata": {},
   "outputs": [
    {
     "data": {
      "text/plain": [
       "LogisticRegression(C=0.01, class_weight=None, dual=False, fit_intercept=True,\n",
       "                   intercept_scaling=1, l1_ratio=None, max_iter=100,\n",
       "                   multi_class='auto', n_jobs=None, penalty='l2',\n",
       "                   random_state=None, solver='liblinear', tol=0.0001, verbose=0,\n",
       "                   warm_start=False)"
      ]
     },
     "execution_count": 185,
     "metadata": {},
     "output_type": "execute_result"
    }
   ],
   "source": [
    "#Logistic Regression\n",
    "lr = LogisticRegression(C=0.01, solver='liblinear').fit(X_train,y_train)\n",
    "lr"
   ]
  },
  {
   "cell_type": "code",
   "execution_count": 186,
   "metadata": {},
   "outputs": [
    {
     "data": {
      "text/plain": [
       "array([1, 1, 1, ..., 1, 1, 1], dtype=int64)"
      ]
     },
     "execution_count": 186,
     "metadata": {},
     "output_type": "execute_result"
    }
   ],
   "source": [
    "lr_pred = lr.predict(X_test)\n",
    "lr_pred"
   ]
  },
  {
   "cell_type": "code",
   "execution_count": 187,
   "metadata": {},
   "outputs": [
    {
     "name": "stdout",
     "output_type": "stream",
     "text": [
      "Score: 0.6984718119943496\n",
      "F1-Score: 0.8216997752262925\n",
      "\n",
      "Confusion Martix:\n",
      "[[27052   307]\n",
      " [11433   143]]\n",
      "\n",
      "Classification Report:\n",
      "              precision    recall  f1-score   support\n",
      "\n",
      "           1       0.70      0.99      0.82     27359\n",
      "           2       0.32      0.01      0.02     11576\n",
      "\n",
      "    accuracy                           0.70     38935\n",
      "   macro avg       0.51      0.50      0.42     38935\n",
      "weighted avg       0.59      0.70      0.58     38935\n",
      "\n"
     ]
    }
   ],
   "source": [
    "print('Score:',accuracy_score(lr_pred, y_test))\n",
    "print('F1-Score:',f1_score(lr_pred, y_test))\n",
    "print('')\n",
    "print('Confusion Martix:')\n",
    "print(confusion_matrix(y_test, lr_pred))\n",
    "print('')\n",
    "print('Classification Report:')\n",
    "print (classification_report(y_test, lr_pred))"
   ]
  },
  {
   "cell_type": "code",
   "execution_count": 188,
   "metadata": {},
   "outputs": [
    {
     "data": {
      "text/plain": [
       "GaussianNB(priors=None, var_smoothing=1e-09)"
      ]
     },
     "execution_count": 188,
     "metadata": {},
     "output_type": "execute_result"
    }
   ],
   "source": [
    "#Navie Bayes\n",
    "nb = GaussianNB(priors=None, var_smoothing=1e-09).fit(X_train,y_train)\n",
    "nb"
   ]
  },
  {
   "cell_type": "code",
   "execution_count": 189,
   "metadata": {},
   "outputs": [
    {
     "data": {
      "text/plain": [
       "array([1, 1, 1, ..., 1, 1, 1], dtype=int64)"
      ]
     },
     "execution_count": 189,
     "metadata": {},
     "output_type": "execute_result"
    }
   ],
   "source": [
    "nb_pred = nb.predict(X_test)\n",
    "nb_pred"
   ]
  },
  {
   "cell_type": "code",
   "execution_count": 190,
   "metadata": {},
   "outputs": [
    {
     "name": "stdout",
     "output_type": "stream",
     "text": [
      "Score: 0.701476820341595\n",
      "F1-Score: 0.8233720841881317\n",
      "\n",
      "Confusion Martix:\n",
      "[[26074  1285]\n",
      " [10910   666]]\n",
      "\n",
      "Classification Report:\n",
      "              precision    recall  f1-score   support\n",
      "\n",
      "           1       0.70      0.99      0.82     27359\n",
      "           2       0.45      0.02      0.04     11576\n",
      "\n",
      "    accuracy                           0.70     38935\n",
      "   macro avg       0.58      0.50      0.43     38935\n",
      "weighted avg       0.63      0.70      0.59     38935\n",
      "\n"
     ]
    }
   ],
   "source": [
    "print('Score:',accuracy_score(nb_pred, y_test))\n",
    "print('F1-Score:',f1_score(nb_pred, y_test))\n",
    "print('')\n",
    "print('Confusion Martix:')\n",
    "print(confusion_matrix(y_test, knn_pred))\n",
    "print('')\n",
    "print('Classification Report:')\n",
    "print (classification_report(y_test, nb_pred))"
   ]
  },
  {
   "cell_type": "code",
   "execution_count": 191,
   "metadata": {},
   "outputs": [
    {
     "data": {
      "text/plain": [
       "RandomForestClassifier(bootstrap=True, ccp_alpha=0.0, class_weight=None,\n",
       "                       criterion='gini', max_depth=None, max_features='auto',\n",
       "                       max_leaf_nodes=None, max_samples=None,\n",
       "                       min_impurity_decrease=0.0, min_impurity_split=None,\n",
       "                       min_samples_leaf=1, min_samples_split=2,\n",
       "                       min_weight_fraction_leaf=0.0, n_estimators=20,\n",
       "                       n_jobs=None, oob_score=False, random_state=None,\n",
       "                       verbose=0, warm_start=False)"
      ]
     },
     "execution_count": 191,
     "metadata": {},
     "output_type": "execute_result"
    }
   ],
   "source": [
    "#Random Forest\n",
    "rf = RandomForestClassifier(n_estimators=20).fit(X_train,y_train)\n",
    "rf"
   ]
  },
  {
   "cell_type": "code",
   "execution_count": 192,
   "metadata": {},
   "outputs": [
    {
     "data": {
      "text/plain": [
       "array([1, 1, 1, ..., 2, 1, 1], dtype=int64)"
      ]
     },
     "execution_count": 192,
     "metadata": {},
     "output_type": "execute_result"
    }
   ],
   "source": [
    "rf_pred = rf.predict(X_test)\n",
    "rf_pred"
   ]
  },
  {
   "cell_type": "code",
   "execution_count": 193,
   "metadata": {},
   "outputs": [
    {
     "name": "stdout",
     "output_type": "stream",
     "text": [
      "Score: 0.7164504944137665\n",
      "F1-Score: 0.8060163058757379\n",
      "\n",
      "Confusion Martix:\n",
      "[[26074  1285]\n",
      " [10910   666]]\n",
      "\n",
      "Classification Report:\n",
      "              precision    recall  f1-score   support\n",
      "\n",
      "           1       0.78      0.84      0.81     27359\n",
      "           2       0.53      0.43      0.47     11576\n",
      "\n",
      "    accuracy                           0.72     38935\n",
      "   macro avg       0.65      0.63      0.64     38935\n",
      "weighted avg       0.70      0.72      0.71     38935\n",
      "\n"
     ]
    }
   ],
   "source": [
    "print('Score:',accuracy_score(rf_pred, y_test))\n",
    "print('F1-Score:',f1_score(rf_pred, y_test))\n",
    "print('')\n",
    "print('Confusion Martix:')\n",
    "print(confusion_matrix(y_test, knn_pred))\n",
    "print('')\n",
    "print('Classification Report:')\n",
    "print (classification_report(y_test, rf_pred))"
   ]
  },
  {
   "cell_type": "markdown",
   "metadata": {},
   "source": [
    "#### The best classifier of this problem is Decision Tree. It's get best score and more true positive values."
   ]
  },
  {
   "cell_type": "code",
   "execution_count": null,
   "metadata": {},
   "outputs": [],
   "source": []
  }
 ],
 "metadata": {
  "kernelspec": {
   "display_name": "Python 3",
   "language": "python",
   "name": "python3"
  },
  "language_info": {
   "codemirror_mode": {
    "name": "ipython",
    "version": 3
   },
   "file_extension": ".py",
   "mimetype": "text/x-python",
   "name": "python",
   "nbconvert_exporter": "python",
   "pygments_lexer": "ipython3",
   "version": "3.7.6"
  }
 },
 "nbformat": 4,
 "nbformat_minor": 4
}
